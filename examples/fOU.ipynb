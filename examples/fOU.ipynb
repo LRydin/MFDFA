{
 "cells": [
  {
   "cell_type": "code",
   "execution_count": null,
   "metadata": {},
   "outputs": [],
   "source": [
    "import numpy as np\n",
    "import matplotlib.pyplot as plt\n",
    "from MFDFA import MFDFA\n",
    "from MFDFA import fgn"
   ]
  },
  {
   "cell_type": "markdown",
   "metadata": {},
   "source": [
    "# A fractional Ornstein−Uhlenbeck (fOU) process"
   ]
  },
  {
   "cell_type": "markdown",
   "metadata": {},
   "source": [
    "A simple Ornstein--Uhlenbeck process takes the form\n",
    "$$\\mathrm{d}y(t) = -\\theta y(t)\\mathrm{d}t + \\sigma \\mathrm{d}B_H(t), $$\n",
    "with $\\theta$ the drift coefficient, $\\sigma$ diffusion term, and $B(t)$ a fractional Brownian motion with index $H$."
   ]
  },
  {
   "cell_type": "markdown",
   "metadata": {},
   "source": [
    "There is a Note at the end of this notebook on fractional Gaussian noise and fractional Brownian motion, if you wish to understand it a bit better."
   ]
  },
  {
   "cell_type": "markdown",
   "metadata": {},
   "source": [
    "## Integrating the fOU with an Euler−Maruyama scheme"
   ]
  },
  {
   "cell_type": "code",
   "execution_count": null,
   "metadata": {},
   "outputs": [],
   "source": [
    "# The total integration time\n",
    "t_final = 500\n",
    "\n",
    "# The desired timestep of integration\n",
    "delta_t = 0.001\n",
    "\n",
    "# time array of the process\n",
    "time = np.linspace(0, t_final, t_final * int(1 / delta_t))\n",
    "\n",
    "# Choose some values for the drift and diffusion\n",
    "theta = 0.3\n",
    "sigma = 0.1\n",
    "\n",
    "# Generate your favourite fractional Gaussian noise with H index\n",
    "H = 0.7\n",
    "dB = (t_final ** H) * fgn(N = time.size, H = H)\n",
    "\n",
    "# Initialise the array y\n",
    "y = np.zeros([time.size])\n",
    "\n",
    "# Give some small random initial conditions\n",
    "y[0]=np.random.normal(size = 1) / 10\n",
    "\n",
    "# Integrate the process\n",
    "for i in range(1, time.size):\n",
    "    y[i] = y[i-1] - theta * y[i-1] * delta_t + sigma * dB[i] "
   ]
  },
  {
   "cell_type": "markdown",
   "metadata": {},
   "source": [
    "## Visualising the process"
   ]
  },
  {
   "cell_type": "code",
   "execution_count": null,
   "metadata": {},
   "outputs": [],
   "source": [
    "#This is the stochastic trajectory over time\n",
    "plt.plot(time, y, label = r'Trajectory of fOU process')\n",
    "\n",
    "plt.xlabel(r'time $t$')\n",
    "plt.ylabel(r'$y(t)$')\n",
    "plt.legend()"
   ]
  },
  {
   "cell_type": "markdown",
   "metadata": {},
   "source": [
    "# Employing MFDFA"
   ]
  },
  {
   "cell_type": "markdown",
   "metadata": {},
   "source": [
    "Here we will implement the MFDFA to try and recover the Hurst index $H$ for the generated fOU process.\n",
    "\n",
    "To employ MFDFA we will need a sequence of segment lengths, *lag*, and a selection of powers $q$. Let's start with $q=2$, which is simply DFA. Moreover we need to select the order of the polynomial fittings, which we'll take as straight lines, i.e., 1-st order polynomials."
   ]
  },
  {
   "cell_type": "code",
   "execution_count": null,
   "metadata": {},
   "outputs": [],
   "source": [
    "# Select a band of lags, which usually ranges from \n",
    "# very small segments of data, to very long ones, as\n",
    "lag = np.logspace(0.7, 4, 30).astype(int)\n",
    "# Notice these must be ints, since these will segment\n",
    "# the data into chucks of lag size\n",
    "\n",
    "# Select the power q\n",
    "q = 2\n",
    "\n",
    "# The order of the polynomial fitting\n",
    "order = 1\n",
    "\n",
    "# Obtain the (MF)DFA as\n",
    "lag, dfa = MFDFA(y, lag = lag, q = q, order = order)"
   ]
  },
  {
   "cell_type": "markdown",
   "metadata": {},
   "source": [
    "## Understanding MFDFA"
   ]
  },
  {
   "cell_type": "markdown",
   "metadata": {},
   "source": [
    "To actually understand MFDFA we need to study the results in log-log plots and find some slopes"
   ]
  },
  {
   "cell_type": "code",
   "execution_count": null,
   "metadata": {},
   "outputs": [],
   "source": [
    "# To uncover the Hurst index, lets get some log-log plots\n",
    "plt.loglog(lag, dfa, 'o', label='fOU: MFDFA q=2')\n",
    "\n",
    "# And now we need to fit the line to find the slope. We will\n",
    "# fit the first points, since the results are more accurate \n",
    "# there. Don't forget that if you are seeing in log-log\n",
    "# scales, you need to fit the logs of the results\n",
    "np.polyfit(np.log(lag[:15]), np.log(dfa[:15]),1)[0]\n",
    "\n",
    "# Now what you should obtain is: slope = H + 1"
   ]
  },
  {
   "cell_type": "markdown",
   "metadata": {},
   "source": [
    "Why $H + 1$? Well, the Euler−Maruyama scheme literally integrates the process: Integration implies + 1 (it increases the regularity by 1).\n",
    "\n",
    "Curious about other processes? You can just input $dB_H$ into the MFDFA and see what you get (it will be $H$ the slope, since this is a *noise*). You can instead put np.cumsum($dB_H$) and you will get slope = $H+1$ (since it is a *motion*)"
   ]
  },
  {
   "cell_type": "markdown",
   "metadata": {},
   "source": [
    "## Side note on fractional Gaussian noise"
   ]
  },
  {
   "cell_type": "markdown",
   "metadata": {},
   "source": [
    "Fractional Brownian motion is an extension of Brownian motion that allows to have correlations in the noise. You can visualise its effects and characteristics by simply considering $B_H(t)$ for different $H$ values. The regular Brownian motion has an $H$ index of $1/2$."
   ]
  },
  {
   "cell_type": "code",
   "execution_count": null,
   "metadata": {},
   "outputs": [],
   "source": [
    "# Lets take three examples, with H=0.3, H=0.5, H=0.7\n",
    "# The total integration time, as before\n",
    "t_final = 500\n",
    "\n",
    "# The desired timestep of integration\n",
    "delta_t = 0.001\n",
    "\n",
    "# time array of the process\n",
    "time = np.linspace(0, t_final, t_final * int(1 / delta_t))\n",
    "\n",
    "# Generate three fractional Gaussian noises dB \n",
    "H_anti = 0.3       # Anti-presistent noise\n",
    "H_regu = 0.5       # Regular noise\n",
    "H_posi = 0.7       # Positively correlated noise\n",
    "\n",
    "# Generate the noises (with the appropriate normalisation)\n",
    "dB_anti = (t_final ** H_anti) * fgn(N = time.size, H = H_anti)\n",
    "dB_regu = (t_final ** H_regu) * fgn(N = time.size, H = H_regu)\n",
    "dB_posi = (t_final ** H_posi) * fgn(N = time.size, H = H_posi)"
   ]
  },
  {
   "cell_type": "code",
   "execution_count": null,
   "metadata": {},
   "outputs": [],
   "source": [
    "# Let's plot the noises, and the associated motions\n",
    "\n",
    "fig, ax = plt.subplots(2,3, figsize=(12,4));\n",
    "\n",
    "ax[0,0].plot(time, dB_anti)\n",
    "ax[0,1].plot(time, dB_regu)\n",
    "ax[0,2].plot(time, dB_posi)\n",
    "\n",
    "# their motions are given by the integral of the noise,\n",
    "# i.e., the cumsum of the process\n",
    "\n",
    "ax[1,0].plot(time, np.cumsum(dB_anti))\n",
    "ax[1,1].plot(time, np.cumsum(dB_regu))\n",
    "ax[1,2].plot(time, np.cumsum(dB_posi))"
   ]
  },
  {
   "cell_type": "markdown",
   "metadata": {},
   "source": [
    "As you can see, the first path $H=0.3$ is very *rough*, because $H<1/2$ means anti-correlation: If on the previous step the noise when up, it is more likely to go down!\n",
    "\n",
    "For $H=0.5$ is just the regular Brownian motion.\n",
    "\n",
    "For positively correlated noise $H=0.7$, you have the opposite, if you just went up, you are likely to continue going up, so you get *smooth* paths."
   ]
  }
 ],
 "metadata": {
  "kernelspec": {
   "display_name": "Python 3",
   "language": "python",
   "name": "python3"
  },
  "language_info": {
   "codemirror_mode": {
    "name": "ipython",
    "version": 3
   },
   "file_extension": ".py",
   "mimetype": "text/x-python",
   "name": "python",
   "nbconvert_exporter": "python",
   "pygments_lexer": "ipython3",
   "version": "3.7.4"
  }
 },
 "nbformat": 4,
 "nbformat_minor": 2
}
